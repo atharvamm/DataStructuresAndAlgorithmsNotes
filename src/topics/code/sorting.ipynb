{
 "cells": [
  {
   "cell_type": "markdown",
   "id": "d7ebf2d7",
   "metadata": {},
   "source": [
    "# Sorting"
   ]
  },
  {
   "cell_type": "code",
   "execution_count": 133,
   "id": "32126f9f",
   "metadata": {},
   "outputs": [],
   "source": [
    "from help import timeit"
   ]
  },
  {
   "attachments": {},
   "cell_type": "markdown",
   "id": "39765a33",
   "metadata": {},
   "source": [
    "#### Selection Sort\n",
    "- Basically select the minimum and place it in the sorted array.\n",
    "- Time Complexity is O(N^2) (best,worst,average), but since we can do in place, so space complexity is O(1)"
   ]
  },
  {
   "cell_type": "code",
   "execution_count": 134,
   "id": "b48cd286",
   "metadata": {},
   "outputs": [],
   "source": [
    "@timeit(10)\n",
    "def selection_sort(case):\n",
    "    for i in range(len(case)):\n",
    "        min_number = case[i]\n",
    "        min_index = i\n",
    "        for j in range(i,len(case)):\n",
    "            if case[j] < min_number:\n",
    "                min_index = j\n",
    "                min_number = case[j]\n",
    "        case[i],case[min_index] = case[min_index], case[i]\n",
    "    return case"
   ]
  },
  {
   "attachments": {},
   "cell_type": "markdown",
   "id": "5017639c",
   "metadata": {},
   "source": [
    "#### Bubble Sort\n",
    "- Compare consecutive elements till all elements are sorted\n",
    "- Time Complexity is O(N^2) (worst,average), but since we can do in place, so space complexity is O(1)\n",
    "- Best is O(N)"
   ]
  },
  {
   "cell_type": "code",
   "execution_count": 135,
   "id": "775066f1",
   "metadata": {},
   "outputs": [],
   "source": [
    "@timeit(10)\n",
    "def bubble_sort(case):\n",
    "    if len(case) < 2:\n",
    "        return case\n",
    "    \n",
    "    updates = False\n",
    "    for i in range(len(case)):\n",
    "        for j in range(len(case) - i - 1):\n",
    "            if case[j] > case[j + 1]:\n",
    "                case[j], case[j + 1] = case[j + 1], case[j]\n",
    "                updates = True\n",
    "        if not updates :\n",
    "            break\n",
    "    return case"
   ]
  },
  {
   "attachments": {},
   "cell_type": "markdown",
   "id": "64a584e4",
   "metadata": {},
   "source": [
    "#### Insertion Sort\n",
    "- Takes an element and places it in its correct position. Start assuming first element is sorted and then put all other elements in the correct position with respect to the array that is already sorted.\n",
    "- Best - O(N), O(N^2) = Average / Worst"
   ]
  },
  {
   "cell_type": "code",
   "execution_count": 136,
   "id": "e9e1ef63",
   "metadata": {},
   "outputs": [],
   "source": [
    "@timeit(10)\n",
    "def insertion_sort(case):\n",
    "    for unsortedi in range(1,len(case)):\n",
    "        currentindex = unsortedi\n",
    "        while currentindex > 0 and case[currentindex-1] > case[currentindex]:\n",
    "            case[currentindex-1], case[currentindex] = case[currentindex], case[currentindex - 1]\n",
    "            currentindex -= 1\n",
    "        \n",
    "    return case"
   ]
  },
  {
   "attachments": {},
   "cell_type": "markdown",
   "id": "1f42d5c6",
   "metadata": {},
   "source": [
    "#### Merge Sort\n",
    "- Divide and merge\n",
    "- Time Complexity - NlogN\n",
    "- Space Complexity - O(N)"
   ]
  },
  {
   "cell_type": "code",
   "execution_count": 137,
   "id": "321159bf",
   "metadata": {},
   "outputs": [],
   "source": [
    "def merge(left,right):\n",
    "    merged = []\n",
    "    lefti = 0\n",
    "    righti = 0\n",
    "\n",
    "    while lefti < len(left) and righti < len(right):\n",
    "        if left[lefti] < right[righti]:\n",
    "            merged.append(left[lefti])\n",
    "            lefti += 1\n",
    "        else:\n",
    "            merged.append(right[righti])\n",
    "            righti += 1\n",
    "\n",
    "\n",
    "    while lefti < len(left):\n",
    "        merged.append(left[lefti])\n",
    "        lefti += 1\n",
    "\n",
    "    while righti < len(right):\n",
    "        merged.append(right[righti])\n",
    "        righti += 1\n",
    "    \n",
    "    return merged\n",
    "\n",
    "@timeit(10)\n",
    "def merge_sort(cur_arr):\n",
    "    if len(cur_arr) < 2:\n",
    "        return cur_arr\n",
    "    mid = len(cur_arr)//2\n",
    "    left = merge_sort(cur_arr[:mid])\n",
    "    right = merge_sort(cur_arr[mid:])\n",
    "    return merge(left,right)"
   ]
  },
  {
   "attachments": {},
   "cell_type": "markdown",
   "id": "67a8ad5d",
   "metadata": {},
   "source": [
    "#### Quick Sort\n",
    "- Pick up a pivot element and put it in its correct place. Pivot usually take first element. Smaller on the left and larger on the right \n",
    "- Time Complexity - NlogN\n",
    "- Space Complexity - O(1)"
   ]
  },
  {
   "cell_type": "code",
   "execution_count": 138,
   "id": "bfd1c6d5",
   "metadata": {},
   "outputs": [],
   "source": [
    "### Go again over this and implement this one.\n",
    "\n",
    "\n",
    "def quick_sort_arr(cur_arr, start, end):\n",
    "    if start >= end:\n",
    "        return\n",
    "\n",
    "    pivot = start\n",
    "    i, j = start + 1, end\n",
    "\n",
    "    while i <= j:\n",
    "        while i <= end and cur_arr[i] <= cur_arr[pivot]:\n",
    "            i += 1\n",
    "        while j >= start + 1 and cur_arr[j] >= cur_arr[pivot]:\n",
    "            j -= 1\n",
    "        if i <= j:\n",
    "            cur_arr[i], cur_arr[j] = cur_arr[j], cur_arr[i]\n",
    "\n",
    "    cur_arr[pivot], cur_arr[j] = cur_arr[j], cur_arr[pivot]  # Place pivot at correct position\n",
    "    quick_sort_arr(cur_arr, start, j - 1)\n",
    "    quick_sort_arr(cur_arr, j + 1, end)\n",
    "\n",
    "@timeit(10)\n",
    "def quick_sort(arr):\n",
    "    quick_sort_arr(arr, 0, len(arr) - 1)\n"
   ]
  },
  {
   "cell_type": "markdown",
   "id": "fab84888",
   "metadata": {},
   "source": [
    "##### Examples"
   ]
  },
  {
   "cell_type": "code",
   "execution_count": 139,
   "id": "5038639c",
   "metadata": {},
   "outputs": [
    {
     "name": "stdout",
     "output_type": "stream",
     "text": [
      "[3, 1, 4, 1, 5, 9, 2] [1, 1, 2, 3, 4, 5, 9]\n",
      "bubble_sort took 0.0000040531 seconds\n",
      "selection_sort took 0.0000030994 seconds\n",
      "merge_sort took 0.0000000000 seconds\n",
      "merge_sort took 0.0000000000 seconds\n",
      "merge_sort took 0.0000000000 seconds\n",
      "merge_sort took 0.0000071526 seconds\n",
      "merge_sort took 0.0000128746 seconds\n",
      "merge_sort took 0.0000000000 seconds\n",
      "merge_sort took 0.0000000000 seconds\n",
      "merge_sort took 0.0000150204 seconds\n",
      "merge_sort took 0.0000000000 seconds\n",
      "merge_sort took 0.0000000000 seconds\n",
      "merge_sort took 0.0000052452 seconds\n",
      "merge_sort took 0.0000271797 seconds\n",
      "merge_sort took 0.0000469685 seconds\n",
      "insertion_sort took 0.0000030994 seconds\n",
      "quick_sort took 0.0000047684 seconds\n"
     ]
    }
   ],
   "source": [
    "test_cases = [\n",
    "    [],  # Empty list\n",
    "    [1],  # Single element\n",
    "    [2, 1],  # Two elements, unsorted\n",
    "    [1, 2, 3, 4, 5],  # Already sorted list\n",
    "    [5, 4, 3, 2, 1],  # Reversed list\n",
    "    [3, 1, 4, 1, 5, 9, 2],  # List with duplicates\n",
    "    [0, -1, -3, 8, 7],  # List with negative numbers\n",
    "    [10, 1, 100, 50, 5],  # Random order, varying magnitude\n",
    "    [1.1, 2.2, 0.5, -1.2],  # Floating-point numbers\n",
    "    [3, 0, 1],  \n",
    "]\n",
    "\n",
    "test_cases_single = [\n",
    "    # [],  # Empty list\n",
    "    # [1],  # Single element\n",
    "    # [2, 1],  # Two elements, unsorted\n",
    "    # [1, 2, 3, 4, 5],  # Already sorted list\n",
    "    # [5, 4, 3, 2, 1],  # Reversed list\n",
    "    [3, 1, 4, 1, 5, 9, 2],  # List with duplicates\n",
    "    # [0, -1, -3, 8, 7],  # List with negative numbers\n",
    "    # [10, 1, 100, 50, 5],  # Random order, varying magnitude\n",
    "    # [1.1, 2.2, 0.5, -1.2],  # Floating-point numbers\n",
    "    # [3, 0, 1],  \n",
    "]\n",
    "\n",
    "for case in test_cases_single:\n",
    "    # print(case, sorted(case))\n",
    "    # print(bubble_sort(case) == sorted(case))\n",
    "    # print(selection_sort(case) == sorted(case))\n",
    "    # print(merge_sort(case) == sorted(case))\n",
    "    # print(insertion_sort(case) == sorted(case))\n",
    "    # sorted_case = sorted(case)  \n",
    "    # casequick = case.copy()\n",
    "    # quick_sort(casequick)\n",
    "    # print(sorted_case == case)\n",
    "\n",
    "    print(case, sorted(case))\n",
    "    # print(bubble_sort(case) == sorted(case))\n",
    "    # print(case)\n",
    "    bubble_sort(case.copy())\n",
    "    selection_sort(case.copy())\n",
    "    merge_sort(case.copy())\n",
    "    insertion_sort(case.copy())\n",
    "    quick_sort(case.copy())"
   ]
  },
  {
   "cell_type": "code",
   "execution_count": null,
   "id": "791c9d92",
   "metadata": {},
   "outputs": [],
   "source": []
  },
  {
   "cell_type": "code",
   "execution_count": null,
   "id": "2bfca5ca",
   "metadata": {},
   "outputs": [],
   "source": []
  },
  {
   "cell_type": "code",
   "execution_count": null,
   "id": "ab0b2f8a",
   "metadata": {},
   "outputs": [],
   "source": []
  }
 ],
 "metadata": {
  "kernelspec": {
   "display_name": "sameerah",
   "language": "python",
   "name": "python3"
  },
  "language_info": {
   "codemirror_mode": {
    "name": "ipython",
    "version": 3
   },
   "file_extension": ".py",
   "mimetype": "text/x-python",
   "name": "python",
   "nbconvert_exporter": "python",
   "pygments_lexer": "ipython3",
   "version": "3.10.14"
  },
  "vscode": {
   "interpreter": {
    "hash": "8a7fe198667f559285037b1c81457d171376a308368d9bd529ff63200859e778"
   }
  }
 },
 "nbformat": 4,
 "nbformat_minor": 5
}
