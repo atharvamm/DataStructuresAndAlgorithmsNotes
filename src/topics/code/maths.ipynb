{
 "cells": [
  {
   "cell_type": "markdown",
   "id": "d7ebf2d7",
   "metadata": {},
   "source": [
    "# Basic Maths"
   ]
  },
  {
   "attachments": {},
   "cell_type": "markdown",
   "id": "39765a33",
   "metadata": {},
   "source": [
    "- To extract digits one at a time use modulus and integer division in sequence to get numbers in reverse order. This is more efficient than string operations.\n",
    "- Whenever there is some sort of division that reduces the number of operations to be carried out the process usually has logarithmic time complexity\n",
    "- If there is a division operation in your code that reduces the cases you have to check, time complexity is usually close to logN. For example to find digits we keep dividing the number by 10 so the TC is log_10(N)."
   ]
  },
  {
   "cell_type": "markdown",
   "id": "46d0797c",
   "metadata": {},
   "source": [
    "#### Q1. You are given an integer n. You need to return the number of digits in the number. The number will have no leading zeroes, except when the number is 0 itself."
   ]
  },
  {
   "cell_type": "code",
   "execution_count": 57,
   "id": "b48cd286",
   "metadata": {},
   "outputs": [
    {
     "data": {
      "text/plain": [
       "6"
      ]
     },
     "execution_count": 57,
     "metadata": {},
     "output_type": "execute_result"
    }
   ],
   "source": [
    "def numdignonlog(N):\n",
    "    digitscnt = 0\n",
    "    while N > 0:\n",
    "        digitscnt += 1\n",
    "        N = N // 10\n",
    "    return digitscnt\n",
    "\n",
    "def numdiglog(N):\n",
    "    from math import log10\n",
    "    cnt = log10(N) + 1\n",
    "    return int(cnt)\n",
    "\n",
    "\n",
    "numdignonlog(314532)\n",
    "numdiglog(314532)"
   ]
  },
  {
   "cell_type": "markdown",
   "id": "5017639c",
   "metadata": {},
   "source": [
    "#### Q2. You are given an integer n. Return the integer formed by placing the digits of n in reverse order."
   ]
  },
  {
   "cell_type": "code",
   "execution_count": 58,
   "id": "c6e4ce4e",
   "metadata": {},
   "outputs": [
    {
     "data": {
      "text/plain": [
       "2789"
      ]
     },
     "execution_count": 58,
     "metadata": {},
     "output_type": "execute_result"
    }
   ],
   "source": [
    "def revnum(N):\n",
    "    digits = []\n",
    "    while N > 0:\n",
    "        digits.append(str(N%10))\n",
    "        N //= 10\n",
    "\n",
    "    return int(\"\".join(digits))\n",
    "\n",
    "revnum(9872)"
   ]
  },
  {
   "cell_type": "markdown",
   "id": "64a584e4",
   "metadata": {},
   "source": [
    "#### Q3. You are given an integer n. You need to check whether the number is a palindrome number or not. Return true if it's a palindrome number, otherwise return false. A palindrome number is a number which reads the same both left to right and right to left."
   ]
  },
  {
   "cell_type": "code",
   "execution_count": 59,
   "id": "e9e1ef63",
   "metadata": {},
   "outputs": [
    {
     "data": {
      "text/plain": [
       "3"
      ]
     },
     "execution_count": 59,
     "metadata": {},
     "output_type": "execute_result"
    }
   ],
   "source": [
    "def strpalindrome(N):\n",
    "    numstr = str(N)\n",
    "    s,e = 0,len(numstr) - 1\n",
    "    while s <= e:\n",
    "        if numstr[s] != numstr[e]:\n",
    "            return False\n",
    "        s += 1\n",
    "        e -= 1\n",
    "    return True\n",
    "\n",
    "### Random:  How to get any digit from number\n",
    "def nthdigit(N, sindex = 3):\n",
    "    from math import log10\n",
    "    numdigits = int(log10(N))+1\n",
    "    nthdig = (N // 10**(numdigits - (sindex))) % 10\n",
    "    return nthdig\n",
    "\n",
    "## Can we use log10 to get number at some specific index ?\n",
    "N = 98589\n",
    "strpalindrome(N)\n",
    "N = 12345\n",
    "strpalindrome(N)\n",
    "nthdigit(N,3)"
   ]
  },
  {
   "cell_type": "markdown",
   "id": "1f42d5c6",
   "metadata": {},
   "source": [
    "#### Q4. You are given two integers n1 and n2. You need find the Greatest Common Divisor (GCD) of the two given numbers. Return the GCD of the two numbers. The Greatest Common Divisor (GCD) of two integers is the largest positive integer that divides both of the integers."
   ]
  },
  {
   "cell_type": "code",
   "execution_count": 60,
   "id": "321159bf",
   "metadata": {},
   "outputs": [
    {
     "data": {
      "text/plain": [
       "6"
      ]
     },
     "execution_count": 60,
     "metadata": {},
     "output_type": "execute_result"
    }
   ],
   "source": [
    "def gcd(a,b):\n",
    "    while b > 0:\n",
    "        a, b = b , a % b    \n",
    "    return a\n",
    "\n",
    "gcd(48,16)\n",
    "gcd(108,56)\n",
    "gcd(432,792)\n",
    "gcd(270, 192)\n"
   ]
  },
  {
   "cell_type": "markdown",
   "id": "16ab69bf",
   "metadata": {},
   "source": [
    "#### Q5. You are given an integer n. You need to check whether it is an armstrong number or not. Return true if it is an armstrong number, otherwise return false. An armstrong number is a number which is equal to the sum of the digits of the number, raised to the power of the number of digits."
   ]
  },
  {
   "cell_type": "code",
   "execution_count": 61,
   "id": "e8402ee7",
   "metadata": {},
   "outputs": [
    {
     "data": {
      "text/plain": [
       "(5, 12, False)"
      ]
     },
     "execution_count": 61,
     "metadata": {},
     "output_type": "execute_result"
    }
   ],
   "source": [
    "def armstrong(N):\n",
    "    n = N\n",
    "    from math import log10\n",
    "    ndigits = int(log10(N) + 1)\n",
    "    ans = 0\n",
    "    while n > 0:\n",
    "        ans += (n % 10)**ndigits\n",
    "        n //= 10\n",
    "    return (ans,N,ans == N) \n",
    "\n",
    "armstrong(153)\n",
    "armstrong(12)"
   ]
  },
  {
   "cell_type": "markdown",
   "id": "3ff56184",
   "metadata": {},
   "source": [
    "#### Q6. You are given an integer n. You need to find all the divisors of n. Return all the divisors of n as an array or list in a sorted order. A number which completely divides another number is called it's divisor."
   ]
  },
  {
   "cell_type": "code",
   "execution_count": 62,
   "id": "4fb4a505",
   "metadata": {},
   "outputs": [
    {
     "data": {
      "text/plain": [
       "[1, 2, 4, 8]"
      ]
     },
     "execution_count": 62,
     "metadata": {},
     "output_type": "execute_result"
    }
   ],
   "source": [
    "def divisorbrute(N):\n",
    "    divisors = set()\n",
    "    for i in range(1,N//2 + 1): # Square root of n is much better here and more efficient.\n",
    "        if N % i == 0: \n",
    "            divisors.add(i)\n",
    "            divisors.add(N//i)\n",
    "    \n",
    "    return sorted(divisors)\n",
    "\n",
    "divisorbrute(6)\n",
    "divisorbrute(8)"
   ]
  },
  {
   "cell_type": "markdown",
   "id": "0ee07535",
   "metadata": {},
   "source": [
    "#### Q7. You are given an integer n. You need to check if the number is prime or not. Return true if it is a prime number, otherwise return false. A prime number is a number which has no divisors except 1 and itself."
   ]
  },
  {
   "cell_type": "code",
   "execution_count": 67,
   "id": "16167ded",
   "metadata": {},
   "outputs": [
    {
     "name": "stdout",
     "output_type": "stream",
     "text": [
      "[False, False, True, True, False, True, False, True, False, False, False, True, False, True]\n"
     ]
    },
    {
     "data": {
      "text/plain": [
       "True"
      ]
     },
     "execution_count": 67,
     "metadata": {},
     "output_type": "execute_result"
    }
   ],
   "source": [
    "def primeornot(N):\n",
    "    if N == 2:\n",
    "        return True\n",
    "    if N % 2 == 0:\n",
    "        return False\n",
    "    sqrt = N**0.5\n",
    "    if sqrt != int(sqrt):\n",
    "        checklist = set()\n",
    "        for i in range(3,int(N**0.5)+1,2):\n",
    "            if i not in checklist:\n",
    "                if N % i == 0:\n",
    "                    return False\n",
    "                else:\n",
    "                    mult = 1\n",
    "                    while mult * i < N**0.5:\n",
    "                        checklist.add(mult*i)\n",
    "                        mult += 1\n",
    "        return True\n",
    "    else :\n",
    "        return False\n",
    "\n",
    "\n",
    "def is_prime(n):\n",
    "    if n <= 1:\n",
    "        return False\n",
    "    if n <= 3:\n",
    "        return True\n",
    "    if n % 2 == 0 or n % 3 == 0:\n",
    "        return False\n",
    "    i = 5\n",
    "    while i <= int(n ** 0.5) + 1:\n",
    "        if n % i == 0 or n % (i + 2) == 0:\n",
    "            return False\n",
    "        i += 6\n",
    "    return True\n",
    "\n",
    "\n",
    "def sieve(limit):\n",
    "    is_prime = [True] * (limit + 1)\n",
    "    is_prime[0:2] = [False, False]\n",
    "    for i in range(2, int(limit**0.5) + 1):\n",
    "        if is_prime[i]:\n",
    "            for j in range(i*i, limit + 1, i):\n",
    "                is_prime[j] = False\n",
    "    print(is_prime)\n",
    "    return is_prime[limit]\n",
    "\n",
    "\n",
    "primeornot(13)\n",
    "primeornot(2)\n",
    "sieve(13)"
   ]
  }
 ],
 "metadata": {
  "kernelspec": {
   "display_name": "sameerah",
   "language": "python",
   "name": "python3"
  },
  "language_info": {
   "codemirror_mode": {
    "name": "ipython",
    "version": 3
   },
   "file_extension": ".py",
   "mimetype": "text/x-python",
   "name": "python",
   "nbconvert_exporter": "python",
   "pygments_lexer": "ipython3",
   "version": "3.10.14"
  },
  "vscode": {
   "interpreter": {
    "hash": "8a7fe198667f559285037b1c81457d171376a308368d9bd529ff63200859e778"
   }
  }
 },
 "nbformat": 4,
 "nbformat_minor": 5
}
