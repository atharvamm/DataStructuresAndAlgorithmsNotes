{
 "cells": [
  {
   "attachments": {},
   "cell_type": "markdown",
   "id": "d7ebf2d7",
   "metadata": {},
   "source": [
    "# Patterns\n",
    "\n",
    "For most patterns\n",
    "1. Usually nested loops\n",
    "    <br>a. Outer loop focus on rows\n",
    "    <br>b. Inner loop focus on columns and connect them to the rows\n",
    "2. Usually print inside the inner loops\n",
    "3. (Optional) Observe symmetry if any"
   ]
  },
  {
   "cell_type": "markdown",
   "id": "39765a33",
   "metadata": {},
   "source": [
    "### Pattern 1"
   ]
  },
  {
   "cell_type": "code",
   "execution_count": 1,
   "id": "b48cd286",
   "metadata": {},
   "outputs": [
    {
     "name": "stdout",
     "output_type": "stream",
     "text": [
      "*****\n",
      "*****\n",
      "*****\n",
      "*****\n",
      "*****\n"
     ]
    }
   ],
   "source": [
    "for i in range(5):\n",
    "    for j in range(5):\n",
    "        print(\"*\",end = \"\")\n",
    "    print()"
   ]
  },
  {
   "cell_type": "markdown",
   "id": "5017639c",
   "metadata": {},
   "source": [
    "### Pattern 2"
   ]
  },
  {
   "cell_type": "code",
   "execution_count": 2,
   "id": "cfdc0f41",
   "metadata": {},
   "outputs": [
    {
     "name": "stdout",
     "output_type": "stream",
     "text": [
      "*\n",
      "**\n",
      "***\n",
      "****\n",
      "*****\n"
     ]
    }
   ],
   "source": [
    "for i in range(1,6):\n",
    "    for j in range(i):\n",
    "        print(\"*\",end = \"\")\n",
    "    print()"
   ]
  },
  {
   "cell_type": "markdown",
   "id": "64a584e4",
   "metadata": {},
   "source": [
    "### Pattern 3"
   ]
  },
  {
   "cell_type": "code",
   "execution_count": 3,
   "id": "e9e1ef63",
   "metadata": {},
   "outputs": [
    {
     "name": "stdout",
     "output_type": "stream",
     "text": [
      "1\n",
      "12\n",
      "123\n",
      "1234\n",
      "12345\n"
     ]
    }
   ],
   "source": [
    "for i in range(1,6):\n",
    "    for j in range(i):\n",
    "        print(j+1,end = \"\")\n",
    "    print()"
   ]
  },
  {
   "cell_type": "markdown",
   "id": "1f42d5c6",
   "metadata": {},
   "source": [
    "### Pattern 4"
   ]
  },
  {
   "cell_type": "code",
   "execution_count": 4,
   "id": "321159bf",
   "metadata": {},
   "outputs": [
    {
     "name": "stdout",
     "output_type": "stream",
     "text": [
      "1\n",
      "22\n",
      "333\n",
      "4444\n",
      "55555\n"
     ]
    }
   ],
   "source": [
    "for i in range(1,6):\n",
    "    for j in range(i):\n",
    "        print(i,end = \"\")\n",
    "    print()"
   ]
  },
  {
   "cell_type": "markdown",
   "id": "e046dc12",
   "metadata": {},
   "source": [
    "### Pattern 5"
   ]
  },
  {
   "cell_type": "code",
   "execution_count": 25,
   "id": "0dfce371",
   "metadata": {},
   "outputs": [
    {
     "name": "stdout",
     "output_type": "stream",
     "text": [
      "*****\n",
      "****\n",
      "***\n",
      "**\n",
      "*\n"
     ]
    }
   ],
   "source": [
    "for i in range(5,0,-1):\n",
    "    print(\"*\"*i)"
   ]
  },
  {
   "cell_type": "markdown",
   "id": "fb5daedb",
   "metadata": {},
   "source": [
    "### Pattern 6"
   ]
  },
  {
   "cell_type": "code",
   "execution_count": 7,
   "id": "bfd1c6d5",
   "metadata": {},
   "outputs": [
    {
     "name": "stdout",
     "output_type": "stream",
     "text": [
      "12345\n",
      "1234\n",
      "123\n",
      "12\n",
      "1\n"
     ]
    }
   ],
   "source": [
    "for i in range(5,0,-1):\n",
    "    for j in range(1,i+1):\n",
    "        print(j,end = \"\")\n",
    "    print()"
   ]
  },
  {
   "cell_type": "markdown",
   "id": "d14945cf",
   "metadata": {},
   "source": [
    "### Pattern 7"
   ]
  },
  {
   "cell_type": "code",
   "execution_count": null,
   "id": "bf777e38",
   "metadata": {},
   "outputs": [
    {
     "name": "stdout",
     "output_type": "stream",
     "text": [
      "    *    \n",
      "   ***   \n",
      "  *****  \n",
      " ******* \n",
      "*********\n"
     ]
    }
   ],
   "source": [
    "rows = 5\n",
    "for i in range(1,rows+1):\n",
    "    prntstr = \" \"*(rows - i) + \"*\"*(i - 1) + \"*\" + \"*\"*(i - 1) + \" \"*(rows - i)\n",
    "    print(prntstr)"
   ]
  },
  {
   "cell_type": "markdown",
   "id": "4e9d14c4",
   "metadata": {},
   "source": [
    "### Pattern 8"
   ]
  },
  {
   "cell_type": "code",
   "execution_count": 10,
   "id": "51dd55be",
   "metadata": {},
   "outputs": [
    {
     "name": "stdout",
     "output_type": "stream",
     "text": [
      "*********\n",
      " ******* \n",
      "  *****  \n",
      "   ***   \n",
      "    *    \n"
     ]
    }
   ],
   "source": [
    "rows = 5\n",
    "for i in range(1,rows+1):\n",
    "    prntstr = \" \"*(i - 1) + \"*\"*(rows - i) + \"*\" + \"*\"*(rows - i) + \" \"*(i - 1)\n",
    "    print(prntstr)"
   ]
  },
  {
   "cell_type": "markdown",
   "id": "22e9a478",
   "metadata": {},
   "source": [
    "### Pattern 9"
   ]
  },
  {
   "cell_type": "code",
   "execution_count": 13,
   "id": "d347e57f",
   "metadata": {},
   "outputs": [
    {
     "name": "stdout",
     "output_type": "stream",
     "text": [
      "    *    \n",
      "   ***   \n",
      "  *****  \n",
      " ******* \n",
      "*********\n",
      "*********\n",
      " ******* \n",
      "  *****  \n",
      "   ***   \n",
      "    *    \n"
     ]
    }
   ],
   "source": [
    "rows = 5\n",
    "for i in range(1,rows+1):\n",
    "    prntstr = \" \"*(rows - i) + \"*\"*(i - 1) + \"*\" + \"*\"*(i - 1) + \" \"*(rows - i)\n",
    "    print(prntstr)\n",
    "rows = 5\n",
    "for i in range(1,rows+1):\n",
    "    prntstr = \" \"*(i - 1) + \"*\"*(rows - i) + \"*\" + \"*\"*(rows - i) + \" \"*(i - 1)\n",
    "    print(prntstr)"
   ]
  },
  {
   "cell_type": "markdown",
   "id": "dac4070e",
   "metadata": {},
   "source": [
    "### Pattern 10"
   ]
  },
  {
   "cell_type": "code",
   "execution_count": 14,
   "id": "848e80bf",
   "metadata": {},
   "outputs": [
    {
     "name": "stdout",
     "output_type": "stream",
     "text": [
      "*    \n",
      "**   \n",
      "***  \n",
      "**** \n",
      "*****\n",
      "*****\n",
      "**** \n",
      "***  \n",
      "**   \n",
      "*    \n"
     ]
    }
   ],
   "source": [
    "rows = 5\n",
    "for i in range(1,rows+1):\n",
    "    prntstr = \"*\" + \"*\"*(i - 1) + \" \"*(rows - i)\n",
    "    print(prntstr)\n",
    "rows = 5\n",
    "for i in range(1,rows+1):\n",
    "    prntstr = \"*\" + \"*\"*(rows - i) + \" \"*(i - 1)\n",
    "    print(prntstr)"
   ]
  },
  {
   "cell_type": "markdown",
   "id": "8d3c1529",
   "metadata": {},
   "source": [
    "### Pattern 11"
   ]
  },
  {
   "cell_type": "code",
   "execution_count": 24,
   "id": "8cc592a1",
   "metadata": {},
   "outputs": [
    {
     "name": "stdout",
     "output_type": "stream",
     "text": [
      "1\n",
      "01\n",
      "101\n",
      "0101\n",
      "10101\n"
     ]
    }
   ],
   "source": [
    "for i in range(1,6):\n",
    "    for j in range(i):\n",
    "        print((i + j)%2,end = \"\")\n",
    "    print()"
   ]
  },
  {
   "cell_type": "markdown",
   "id": "4da0884d",
   "metadata": {},
   "source": [
    "### Pattern 12"
   ]
  },
  {
   "cell_type": "code",
   "execution_count": 33,
   "id": "83b34d6d",
   "metadata": {},
   "outputs": [
    {
     "name": "stdout",
     "output_type": "stream",
     "text": [
      "1      1\n",
      "12    21\n",
      "123  321\n",
      "12344321\n"
     ]
    }
   ],
   "source": [
    "rows = 4\n",
    "for i in range(1,rows+1):\n",
    "    part = \"\".join([str(i) for i in range(1,i+1)]) + \" \"*(rows - i)\n",
    "    print(part + part[::-1])\n"
   ]
  },
  {
   "cell_type": "markdown",
   "id": "fa49d9ff",
   "metadata": {},
   "source": [
    "### Pattern 13"
   ]
  },
  {
   "cell_type": "code",
   "execution_count": 93,
   "id": "4af8878d",
   "metadata": {},
   "outputs": [
    {
     "name": "stdout",
     "output_type": "stream",
     "text": [
      "1 \n",
      "2 3 \n",
      "4 5 6 \n",
      "7 8 9 10 \n",
      "11 12 13 14 15 \n",
      "1 \n",
      "2 3 \n",
      "4 5 6 \n",
      "7 8 9 10 \n",
      "11 12 13 14 \n",
      "1\n",
      "2 3\n",
      "4 5 6\n",
      "7 8 9 10\n",
      "11 12 13 14\n"
     ]
    }
   ],
   "source": [
    "# Variant 1 - Given total rows make individual row\n",
    "nrows = 5\n",
    "num = 1\n",
    "\n",
    "for i in range(1,nrows+1):\n",
    "    for j in range(i):\n",
    "        print(num,end=\" \")\n",
    "        num += 1\n",
    "    print()\n",
    "\n",
    "# Variant 2 - Given total number make rows\n",
    "N = 14\n",
    "curnum = 1\n",
    "neles = 1\n",
    "\n",
    "while curnum < N:\n",
    "    for _ in range(neles):\n",
    "        print(curnum, end = \" \")\n",
    "        curnum += 1\n",
    "        if curnum > N:\n",
    "            break\n",
    "    print()\n",
    "    neles += 1\n",
    "\n",
    "# Efficient Variant 2 - Given total number make rows\n",
    "N = 14\n",
    "curnum = 1\n",
    "neles = 1\n",
    "\n",
    "while curnum <= N:\n",
    "    endnum = min(curnum + neles, N + 1)\n",
    "    print(\" \".join(map(str, range(curnum, endnum))))\n",
    "    curnum = endnum\n",
    "    neles += 1\n"
   ]
  },
  {
   "cell_type": "markdown",
   "id": "109692e2",
   "metadata": {},
   "source": [
    "## Make Variant2 more efficient later"
   ]
  },
  {
   "cell_type": "markdown",
   "id": "0d301dfd",
   "metadata": {},
   "source": [
    "### Pattern 14"
   ]
  },
  {
   "cell_type": "code",
   "execution_count": 43,
   "id": "b07e2457",
   "metadata": {},
   "outputs": [
    {
     "name": "stdout",
     "output_type": "stream",
     "text": [
      "A\n",
      "AB\n",
      "ABC\n",
      "ABCD\n",
      "ABCDE\n"
     ]
    }
   ],
   "source": [
    "letters = [\"A\",\"B\",\"C\",\"D\",\"E\"]\n",
    "for i in range(1,6):\n",
    "    for j in range(i):\n",
    "        print(letters[j],end = \"\")\n",
    "    print()\n"
   ]
  },
  {
   "cell_type": "markdown",
   "id": "46338867",
   "metadata": {},
   "source": [
    "### Pattern 15"
   ]
  },
  {
   "cell_type": "code",
   "execution_count": 44,
   "id": "175d8fd1",
   "metadata": {},
   "outputs": [
    {
     "name": "stdout",
     "output_type": "stream",
     "text": [
      "ABCDE\n",
      "ABCD\n",
      "ABC\n",
      "AB\n",
      "A\n"
     ]
    }
   ],
   "source": [
    "letters = [\"A\",\"B\",\"C\",\"D\",\"E\"]\n",
    "for i in range(5,0,-1):\n",
    "    for j in range(1,i+1):\n",
    "        print(letters[j-1],end = \"\")\n",
    "    print()"
   ]
  },
  {
   "cell_type": "markdown",
   "id": "5a219cfd",
   "metadata": {},
   "source": [
    "### Pattern 16"
   ]
  },
  {
   "cell_type": "code",
   "execution_count": 45,
   "id": "b72134d8",
   "metadata": {},
   "outputs": [
    {
     "name": "stdout",
     "output_type": "stream",
     "text": [
      "A\n",
      "BB\n",
      "CCC\n",
      "DDDD\n",
      "EEEEE\n"
     ]
    }
   ],
   "source": [
    "letters = [\"A\",\"B\",\"C\",\"D\",\"E\"]\n",
    "for i in range(1,6):\n",
    "    for j in range(i):\n",
    "        print(letters[i-1],end = \"\")\n",
    "    print()"
   ]
  },
  {
   "cell_type": "markdown",
   "id": "3c4e3bc4",
   "metadata": {},
   "source": [
    "### Pattern 17"
   ]
  },
  {
   "cell_type": "code",
   "execution_count": 91,
   "id": "7efe9f7a",
   "metadata": {},
   "outputs": [
    {
     "name": "stdout",
     "output_type": "stream",
     "text": [
      "   A   \n",
      "  ABA  \n",
      " ABCBA \n",
      "ABCDCBA\n"
     ]
    }
   ],
   "source": [
    "letters = [\"A\",\"B\",\"C\",\"D\",\"E\"]\n",
    "n = 4\n",
    "\n",
    "for i in range(1,n+1):\n",
    "    part = \" \"*(n - i) + \"\".join([letters[i] for i in range(i)])\n",
    "    print(part + part[-2::-1])"
   ]
  },
  {
   "cell_type": "markdown",
   "id": "add9f555",
   "metadata": {},
   "source": [
    "### Pattern 18"
   ]
  },
  {
   "cell_type": "code",
   "execution_count": 54,
   "id": "e5a79ea6",
   "metadata": {},
   "outputs": [
    {
     "name": "stdout",
     "output_type": "stream",
     "text": [
      "E \n",
      "D E \n",
      "C D E \n",
      "B C D E \n",
      "A B C D E \n"
     ]
    }
   ],
   "source": [
    "letters = [\"A\",\"B\",\"C\",\"D\",\"E\"]\n",
    "nrows = 5\n",
    "for i in range(1,nrows+1):\n",
    "    for j in range(i,0,-1):\n",
    "        print(letters[nrows - j],end=\" \")\n",
    "    print()\n"
   ]
  },
  {
   "cell_type": "markdown",
   "id": "ef98c035",
   "metadata": {},
   "source": [
    "### Pattern 19"
   ]
  },
  {
   "cell_type": "code",
   "execution_count": 58,
   "id": "5445e7d5",
   "metadata": {},
   "outputs": [
    {
     "name": "stdout",
     "output_type": "stream",
     "text": [
      "\n",
      "********\n",
      "***  ***\n",
      "**    **\n",
      "*      *        \n",
      "*      *\n",
      "**    **\n",
      "***  ***\n",
      "********\n"
     ]
    }
   ],
   "source": [
    "nrows = 4\n",
    "for i in range(nrows):\n",
    "    part = \"*\" * (nrows - i) + \" \" * (i)\n",
    "    print()\n",
    "    print(part + part[::-1],end = \"\")\n",
    "\n",
    "for i in range(nrows+1):\n",
    "    part = \"*\" * (i) + \" \" * (nrows - i)\n",
    "    print(part + part[::-1])"
   ]
  },
  {
   "cell_type": "markdown",
   "id": "c78b3e0c",
   "metadata": {},
   "source": [
    "### Pattern 20"
   ]
  },
  {
   "cell_type": "code",
   "execution_count": 66,
   "id": "f67531af",
   "metadata": {},
   "outputs": [
    {
     "name": "stdout",
     "output_type": "stream",
     "text": [
      "\n",
      "*      *\n",
      "**    **\n",
      "***  ***\n",
      "********\n",
      "***  ***\n",
      "**    **\n",
      "*      *\n"
     ]
    }
   ],
   "source": [
    "nrows = 4\n",
    "for i in range(1,nrows+1):\n",
    "    part = \"*\" * (i) + \" \" * (nrows - i)\n",
    "    print()\n",
    "    print(part + part[::-1],end = \"\")\n",
    "print()\n",
    "for i in range(nrows-1,0,-1):\n",
    "    part = \"*\" * (i) + \" \" * (nrows - i)\n",
    "    print(part + part[::-1])"
   ]
  },
  {
   "cell_type": "markdown",
   "id": "3a1a6523",
   "metadata": {},
   "source": [
    "### Pattern 21 - Square"
   ]
  },
  {
   "cell_type": "code",
   "execution_count": 73,
   "id": "a81750c5",
   "metadata": {},
   "outputs": [
    {
     "name": "stdout",
     "output_type": "stream",
     "text": [
      "* * * * \n",
      "*     * \n",
      "*     * \n",
      "* * * * \n"
     ]
    }
   ],
   "source": [
    "n = 4\n",
    "for i in range(n):\n",
    "    for j in range(n):\n",
    "        print(\"*\" if (i in [0,n -1] or j in [0,n-1]) else \" \", end = \" \")\n",
    "    print()"
   ]
  },
  {
   "cell_type": "markdown",
   "id": "adc89efc",
   "metadata": {},
   "source": [
    "### Pattern 22"
   ]
  },
  {
   "cell_type": "code",
   "execution_count": 87,
   "id": "3fb25661",
   "metadata": {},
   "outputs": [
    {
     "name": "stdout",
     "output_type": "stream",
     "text": [
      "4 4 4 4 4 4 4 \n",
      "4 3 3 3 3 3 4 \n",
      "4 3 2 2 2 3 4 \n",
      "4 3 2 1 2 3 4 \n",
      "4 3 2 2 2 3 4 \n",
      "4 3 3 3 3 3 4 \n",
      "4 4 4 4 4 4 4 \n"
     ]
    }
   ],
   "source": [
    "n = 7\n",
    "rectangle = [[\"*\" for i in range(n)] for _ in range(n)]\n",
    "\n",
    "left,right = 0, n - 1\n",
    "top,bottom = 0, n - 1\n",
    "num = n // 2 + 1\n",
    "while left <= right and top <= bottom:\n",
    "    # Horizontal Right at Top\n",
    "    for coli in range(left,right+1):\n",
    "        rectangle[top][coli] = num\n",
    "    top += 1\n",
    "\n",
    "    # Vertical Right Side\n",
    "    for rowi in range(top,bottom+1):\n",
    "        rectangle[rowi][right] = num\n",
    "    right -= 1\n",
    "\n",
    "    # Horizontal Left at Bottom\n",
    "    for coli in range(right,left - 1,-1):\n",
    "        rectangle[bottom][coli] = num\n",
    "    bottom -= 1\n",
    "    \n",
    "    # Vertical Left Side\n",
    "    for rowi in range(bottom,top - 1,-1):\n",
    "        rectangle[rowi][left] = num\n",
    "    left += 1\n",
    "\n",
    "    num -= 1\n",
    "\n",
    "for i in range(len(rectangle)):\n",
    "    for j in range(len(rectangle[0])):\n",
    "        print(rectangle[i][j],end = \" \")\n",
    "    print()"
   ]
  }
 ],
 "metadata": {
  "kernelspec": {
   "display_name": "sameerah",
   "language": "python",
   "name": "python3"
  },
  "language_info": {
   "codemirror_mode": {
    "name": "ipython",
    "version": 3
   },
   "file_extension": ".py",
   "mimetype": "text/x-python",
   "name": "python",
   "nbconvert_exporter": "python",
   "pygments_lexer": "ipython3",
   "version": "3.10.14"
  },
  "vscode": {
   "interpreter": {
    "hash": "8a7fe198667f559285037b1c81457d171376a308368d9bd529ff63200859e778"
   }
  }
 },
 "nbformat": 4,
 "nbformat_minor": 5
}
