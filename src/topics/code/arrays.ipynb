{
 "cells": [
  {
   "attachments": {},
   "cell_type": "markdown",
   "id": "d7ebf2d7",
   "metadata": {},
   "source": [
    "# Arrays\n",
    "- C++ = When you define an array outside of main it is initalized with 0s but when you define it inside main function it is initialized with garbage values. Maximum size of array if defined inside int main is 10^6 and outside/globally is 10^7.\n",
    "-  Arrays can only have only one type of data,different than list we see in Python\n",
    "\n",
    "- Subarray means contiguous elements (in other words consecutive elements).\n",
    "- If you take randomly n elements from the array where they are in random order we call it subsequence\n",
    "\n",
    "## Common Methods\n",
    "\n",
    "#### Two Pointer\n",
    "- Have one pointer that runs fast and other that runs slow. \n",
    "\n",
    "#### Prefix Sum\n",
    "- A big issue is for two pointer methods we dont know when to move the start pointer to reduce subarray size. In those cases we can use prefix sum, it essentially saves the cumulative sum till particular index. Assume we want some target sum, we can check difference between current cumulative total and check if the difference bw current cumulative and target has happened in the past and use that information.\n",
    "- One thing i noticed prefix sum is more important when we have both negative and positive numbers. For positive numbers the behavior is better defined cause adding numbers increases cumulative sum and removing numbers to reduce sum, which is harder for positive and negative numbers in array. In this case its hard to tell when to move start and end so it is easier to use prefix sum."
   ]
  },
  {
   "cell_type": "markdown",
   "id": "2656b7d8",
   "metadata": {},
   "source": [
    "## Questions"
   ]
  },
  {
   "cell_type": "markdown",
   "id": "39765a33",
   "metadata": {},
   "source": [
    "#### Given an array, we have to find the largest element in the array."
   ]
  },
  {
   "cell_type": "code",
   "execution_count": 2,
   "id": "b48cd286",
   "metadata": {},
   "outputs": [
    {
     "name": "stdout",
     "output_type": "stream",
     "text": [
      "3\n",
      "21\n",
      "0\n"
     ]
    },
    {
     "data": {
      "text/plain": [
       "'\\n1. Brute Force : Sort and return\\n2. Store largest in variable\\n'"
      ]
     },
     "execution_count": 2,
     "metadata": {},
     "output_type": "execute_result"
    }
   ],
   "source": [
    "def largestarray(arr):\n",
    "    # # 1. Use python max\n",
    "    # return max(arr)\n",
    "    \n",
    "    # 2. For / While Loop\n",
    "    max_ele = arr[0]\n",
    "    for i in range(1,len(arr)):\n",
    "        if arr[i] > max_ele:\n",
    "            max_ele = arr[i]\n",
    "    return max_ele\n",
    "\n",
    "    # # 3. Recursion\n",
    "    # def larger(arr,index, cur_max):\n",
    "    #     if index > len(arr) - 1:\n",
    "    #         return cur_max\n",
    "    #     if arr[index] > cur_max:\n",
    "    #         return larger(arr,index+1,arr[index])\n",
    "    #     else:\n",
    "    #         return larger(arr,index+1,cur_max)\n",
    "    # return larger(arr,1, arr[0])\n",
    "\n",
    "    # # 4. Sort and return last number\n",
    "    # return sorted(arr)[-1]\n",
    "\n",
    "\n",
    "for eg in [[1,2,3],[5,6,10,21,1],[-1, -3, 0]]:\n",
    "    print(largestarray(eg))\n",
    "\n",
    "'''\n",
    "1. Brute Force : Sort and return,\n",
    "2. Store largest in variable, O(N)\n",
    "'''"
   ]
  },
  {
   "cell_type": "markdown",
   "id": "5017639c",
   "metadata": {},
   "source": [
    "#### Given an array, find the second smallest and second largest element in the array. Print ‘-1’ in the event that either of them doesn’t exist."
   ]
  },
  {
   "cell_type": "code",
   "execution_count": 79,
   "id": "1bf44279",
   "metadata": {},
   "outputs": [
    {
     "name": "stdout",
     "output_type": "stream",
     "text": [
      "(3, 5)\n"
     ]
    }
   ],
   "source": [
    "def secondboth(arr):\n",
    "    if len(arr) < 3:\n",
    "        return -1\n",
    "    \n",
    "    # # 1. Brute Force by sorting\n",
    "    # sorted_arr = sorted(arr)\n",
    "    # return sorted_arr[1],sorted_arr[-2]\n",
    "\n",
    "    # 2. Compare and store variable\n",
    "    temp = arr[0]\n",
    "    smallest,secsmallest,largest,seclargest = temp,temp,temp,temp\n",
    "    for i in range(len(arr)):\n",
    "        if arr[i] < smallest:\n",
    "            secsmallest = smallest\n",
    "            smallest = arr[i]\n",
    "        elif arr[i] < secsmallest:\n",
    "            secsmallest = arr[i]\n",
    "        \n",
    "        if arr[i] > largest:\n",
    "            seclargest = largest\n",
    "            largest = arr[i]\n",
    "        elif arr[i] > seclargest:\n",
    "            seclargest = arr[i]\n",
    "\n",
    "    return secsmallest,seclargest\n",
    "\n",
    "print(secondboth([3,4,5,12,1])) # Ans.(3,5)\n",
    "'''\n",
    "1. Brute : Sort and check if its the same and then return, NlogN\n",
    "2. Better : First go through array and look for largest, then go again look for largest that is not equal to largest. O(N) but 2 passes through the array.\n",
    "3. Optimal : Have two variables to store largest and second largest. Then update each variable looking for largest.\n",
    "'''"
   ]
  },
  {
   "cell_type": "markdown",
   "id": "64a584e4",
   "metadata": {},
   "source": [
    "#### Given an array, and an element num the task is to find if num is present in the given array or not. If present print the index of the element or print -1."
   ]
  },
  {
   "cell_type": "code",
   "execution_count": 3,
   "id": "e9e1ef63",
   "metadata": {},
   "outputs": [
    {
     "name": "stdout",
     "output_type": "stream",
     "text": [
      "2\n",
      "-1\n"
     ]
    },
    {
     "data": {
      "text/plain": [
       "'\\nIterate and check array. If last occurence we can start iterating from the end. For all occurences store values in a set.\\n'"
      ]
     },
     "execution_count": 3,
     "metadata": {},
     "output_type": "execute_result"
    }
   ],
   "source": [
    "def linearsearch(arr,k):\n",
    "    for i in range(len(arr)):\n",
    "        if arr[i] == k:\n",
    "            return i\n",
    "    return -1\n",
    "\n",
    "print(linearsearch([1,2,4],4))\n",
    "print(linearsearch([1,2,4],5))\n",
    "'''\n",
    "Iterate and check array. If last occurence we can start iterating from the end. For all occurences store values in a set.\n",
    "'''"
   ]
  },
  {
   "cell_type": "markdown",
   "id": "1f42d5c6",
   "metadata": {},
   "source": [
    "#### Given two sorted arrays, arr1, and arr2 of size n and m. Find the union of two sorted arrays. The union of two arrays can be defined as the common and distinct elements in the two arrays.NOTE: Elements in the union should be in ascending order."
   ]
  },
  {
   "cell_type": "code",
   "execution_count": 7,
   "id": "321159bf",
   "metadata": {},
   "outputs": [
    {
     "name": "stdout",
     "output_type": "stream",
     "text": [
      "[1, 2, 3] [2, 3, 4] [1, 2, 3, 4]\n",
      "[1, 1, 1] [1, 1] [1]\n",
      "[1, 3, 5] [2, 4, 6] [1, 2, 3, 4, 5, 6]\n",
      "[1, 2, 2, 3] [2, 3, 3, 4] [1, 2, 3, 4]\n",
      "[] [1, 2, 3] [1, 2, 3]\n",
      "[1, 2, 3] [] [1, 2, 3]\n",
      "[] [] []\n",
      "[1, 2, 3, 5, 7] [2, 4, 6, 7, 8] [1, 2, 3, 4, 5, 6, 7, 8]\n",
      "[1, 1, 2, 2] [2, 2, 3, 3] [1, 2, 3]\n",
      "[5, 6, 7] [1, 2, 3] [1, 2, 3, 5, 6, 7]\n"
     ]
    },
    {
     "data": {
      "text/plain": [
       "'\\nIn union we dont add duplicate elements\\n1. Brute : Iterate and put values in set and then sort it.\\n2. Optimal : Two pointer appraoch check the current element of both list.\\n'"
      ]
     },
     "execution_count": 7,
     "metadata": {},
     "output_type": "execute_result"
    }
   ],
   "source": [
    "def unionarrs(arr1,arr2):\n",
    "    i,j = 0,0\n",
    "    union = []\n",
    "\n",
    "    while (i < len(arr1)) and (j < len(arr2)):\n",
    "        if arr1[i] < arr2[j]:\n",
    "            if len(union) == 0 or arr1[i] != union[-1]:\n",
    "                union.append(arr1[i])\n",
    "            i += 1\n",
    "        else:\n",
    "            if len(union) == 0 or arr2[j] != union[-1]:\n",
    "                union.append(arr2[j])\n",
    "            j+=1\n",
    "\n",
    "    while i < len(arr1):\n",
    "        if len(union) == 0 or arr1[i] != union[-1]:\n",
    "                union.append(arr1[i])\n",
    "        i += 1\n",
    "\n",
    "    while j < len(arr2):\n",
    "        if len(union) == 0 or arr2[j] != union[-1]:\n",
    "            union.append(arr2[j])\n",
    "        j+=1\n",
    "\n",
    "    return union\n",
    "\n",
    "test_cases = [\n",
    "    ([1, 2, 3], [2, 3, 4]),\n",
    "    ([1, 1, 1], [1, 1]),\n",
    "    ([1, 3, 5], [2, 4, 6]),\n",
    "    ([1, 2, 2, 3], [2, 3, 3, 4]),\n",
    "    ([], [1, 2, 3]),\n",
    "    ([1, 2, 3], []),\n",
    "    ([], []),\n",
    "    ([1, 2, 3, 5, 7], [2, 4, 6, 7, 8]),\n",
    "    ([1, 1, 2, 2], [2, 2, 3, 3]),\n",
    "    ([5, 6, 7], [1, 2, 3])\n",
    "]\n",
    "\n",
    "for case in test_cases:\n",
    "    arr1,arr2 = case   \n",
    "    print(arr1,arr2, unionarrs(arr1,arr2))\n",
    "'''\n",
    "In union we dont add duplicate elements\n",
    "1. Brute : Iterate and put values in set and then sort it.\n",
    "2. Optimal : Two pointer appraoch check the current element of both list.\n",
    "'''"
   ]
  },
  {
   "attachments": {},
   "cell_type": "markdown",
   "id": "0bd3e8e4",
   "metadata": {},
   "source": [
    "#### Given two sorted arrays, arr1, and arr2 of size n and m. Find the intersection of two sorted arrays. NOTE: Elements in the union should be in ascending order."
   ]
  },
  {
   "cell_type": "code",
   "execution_count": 9,
   "id": "d0706bc5",
   "metadata": {},
   "outputs": [
    {
     "name": "stdout",
     "output_type": "stream",
     "text": [
      "[1, 2, 3] [2, 3, 4] [2, 3]\n",
      "[1, 1, 1] [1, 1] [1, 1]\n",
      "[1, 3, 5] [2, 4, 6] []\n",
      "[1, 2, 2, 3] [2, 3, 3, 4] [2, 3]\n",
      "[] [1, 2, 3] []\n",
      "[1, 2, 3] [] []\n",
      "[] [] []\n",
      "[1, 2, 3, 5, 7] [2, 4, 6, 7, 8] [2, 7]\n",
      "[1, 1, 2, 2] [2, 2, 3, 3] [2, 2]\n",
      "[5, 6, 7] [1, 2, 3] []\n"
     ]
    },
    {
     "data": {
      "text/plain": [
       "'\\n1. Brute : Iterate and put values in set and then sort it.\\n2. Optimal : Two pointer appraoch check the current element of both list.\\n'"
      ]
     },
     "execution_count": 9,
     "metadata": {},
     "output_type": "execute_result"
    }
   ],
   "source": [
    "def intersectionarr(arr1,arr2):\n",
    "    i,j = 0,0\n",
    "    intersection = []\n",
    "\n",
    "    while (i < len(arr1)) and (j < len(arr2)):\n",
    "        if arr1[i] == arr2[j] and:\n",
    "            intersection.append(arr1[i])\n",
    "            i += 1\n",
    "            j += 1\n",
    "            \n",
    "        elif arr1[i] < arr2[j]:\n",
    "            i += 1\n",
    "        else:\n",
    "            j+=1\n",
    "\n",
    "    return intersection\n",
    "\n",
    "test_cases = [\n",
    "    ([1, 2, 3], [2, 3, 4]),\n",
    "    ([1, 1, 1], [1, 1]),\n",
    "    ([1, 3, 5], [2, 4, 6]),\n",
    "    ([1, 2, 2, 3], [2, 3, 3, 4]),\n",
    "    ([], [1, 2, 3]),\n",
    "    ([1, 2, 3], []),\n",
    "    ([], []),\n",
    "    ([1, 2, 3, 5, 7], [2, 4, 6, 7, 8]),\n",
    "    ([1, 1, 2, 2], [2, 2, 3, 3]),\n",
    "    ([5, 6, 7], [1, 2, 3])\n",
    "]\n",
    "\n",
    "for case in test_cases:\n",
    "    arr1,arr2 = case   \n",
    "    print(arr1,arr2, intersectionarr(arr1,arr2))\n",
    "'''\n",
    "1. Brute : Iterate and put values in set and then sort it. Every time i find a match remove that match out of the array. Make a set for elements that is already taken.\n",
    "2. Optimal : Two pointer appraoch check the current element of both list.\n",
    "'''"
   ]
  },
  {
   "cell_type": "markdown",
   "id": "142d7460",
   "metadata": {},
   "source": [
    "####  Given an array and a sum k, we need to print the length of the longest subarray that sums to k. (Assume all numbers are positives)"
   ]
  },
  {
   "cell_type": "code",
   "execution_count": null,
   "id": "bfd1c6d5",
   "metadata": {},
   "outputs": [
    {
     "name": "stdout",
     "output_type": "stream",
     "text": [
      "[1, 2, 3] 3 True\n",
      "[1, 2, 3, 7, 5] 12 True\n",
      "[1, 4, 20, 3, 10, 5] 33 True\n",
      "[1, 1, 1, 1, 1] 5 True\n",
      "[1, 1, 1, 1, 1] 3 True\n",
      "[5, 1, 2, 3] 0 True\n",
      "[5, 1, 2, 3] 100 True\n",
      "[5, 5, 5, 5] 10 True\n",
      "[2, 2, 2, 2, 2] 6 True\n",
      "[5] 5 True\n",
      "[3] 2 True\n",
      "[1, 2, 1, 1, 1, 1, 1] 3 True\n"
     ]
    }
   ],
   "source": [
    "def longestsubsum(arr,expsum):\n",
    "    if sum(arr) < expsum:\n",
    "        return 0\n",
    "    \n",
    "    # # 1. Brute Force - All subarray combinations\n",
    "    # curlength = 0\n",
    "    # for i in range(len(arr)):\n",
    "    #     for j in range(i,len(arr)):\n",
    "    #         if sum(arr[i:j+1]) == expsum:\n",
    "    #             curlength = max(curlength,j-i+1)\n",
    "\n",
    "    # # 2. Two Pointer\n",
    "    # start,end,curlength,cursum = 0,0,0,0\n",
    "    # while end < len(arr):\n",
    "    #     cursum += arr[end]\n",
    "    #     end += 1\n",
    "\n",
    "    #     while cursum >= expsum and start < end:\n",
    "    #         if cursum == expsum:\n",
    "    #             curlength = max(curlength, end - start)\n",
    "    #         cursum -= arr[start]\n",
    "    #         start += 1\n",
    "\n",
    "    # 3. Prefix Sum Approach\n",
    "    sum_store = {0:0}\n",
    "    curlength,search_sum,cur_sum = 0,0,0\n",
    "    for i in range(len(arr)):\n",
    "        cur_sum += arr[i]\n",
    "        if cur_sum not in sum_store:\n",
    "            sum_store[cur_sum] = i + 1\n",
    "        \n",
    "        search_sum = cur_sum - expsum\n",
    "        if search_sum in sum_store:\n",
    "            curlength = max(curlength, i - sum_store[search_sum] + 1)\n",
    "\n",
    "    return curlength\n",
    "\n",
    "\n",
    "\n",
    "test_cases = [\n",
    "    [[1, 2, 3], 3, 2],             \n",
    "    [[1, 2, 3, 7, 5], 12, 3],      \n",
    "    [[1, 4, 20, 3, 10, 5], 33, 3], \n",
    "    [[1, 1, 1, 1, 1], 5, 5],       \n",
    "    [[1, 1, 1, 1, 1], 3, 3],       \n",
    "    [[5, 1, 2, 3], 0, 0],          \n",
    "    [[5, 1, 2, 3], 100, 0],        \n",
    "    [[5, 5, 5, 5], 10, 2],         \n",
    "    [[2, 2, 2, 2, 2], 6, 3],       \n",
    "    [[5], 5, 1],\n",
    "    [[3], 2, 0],\n",
    "    [[1, 2, 1, 1, 1, 1, 1], 3, 3],\n",
    "]\n",
    "\n",
    "for case in test_cases:\n",
    "    arr, expsum, length = case\n",
    "    print(arr, expsum, longestsubsum(arr,expsum) == length)"
   ]
  },
  {
   "cell_type": "markdown",
   "id": "1552b46f",
   "metadata": {},
   "source": [
    "```####  Given an array and a sum k, we need to print the length of the longest subarray that sums to k. (Assume both positive and negative numbers)```"
   ]
  },
  {
   "cell_type": "code",
   "execution_count": null,
   "id": "d14945cf",
   "metadata": {},
   "outputs": [
    {
     "name": "stdout",
     "output_type": "stream",
     "text": [
      "[1, 2, 3] 3 True\n",
      "[1, -1, 5, -2, 3] 3 True\n",
      "[] 0 True\n",
      "[3, 1, 0, -1, 8] 7 True\n",
      "[1, 2, 3, -2, 5] 8 True\n",
      "[-1, -1, 1, 2] 1 True\n",
      "[5, -2, -1, 2, 3] 7 True\n",
      "[10, -10, 10, -10, 10] 0 True\n",
      "[1, 2, 3, 4, 5] 20 True\n",
      "[-2, -1, 2, 1] 0 True\n"
     ]
    }
   ],
   "source": [
    "def longestsubsum(arr,expsum):\n",
    "    if sum(arr) < expsum:\n",
    "        return 0\n",
    "    \n",
    "    # # # 1. Brute Force - All subarray combinations\n",
    "    # curlength = 0\n",
    "    # for i in range(len(arr)):\n",
    "    #     for j in range(i,len(arr)):\n",
    "    #         if sum(arr[i:j+1]) == expsum:\n",
    "    #             curlength = max(curlength,j-i+1)\n",
    "\n",
    "    # # 2. Two Pointer - Maybe ask gpt\n",
    "    # start,end,curlength,cursum = 0,0,0,0\n",
    "    # while end < len(arr):\n",
    "        \n",
    "    #     cursum += arr[end]\n",
    "    #     end += 1\n",
    "\n",
    "    #     while cursum >= expsum and start < end:\n",
    "    #         if cursum == expsum:\n",
    "    #             curlength = max(curlength, end - start)\n",
    "    #         cursum -= arr[start]\n",
    "    #         start += 1\n",
    "\n",
    "    # 3. Prefix Sum\n",
    "    sum_store = {0:0}\n",
    "    cum_sum,curlength,search_sum = 0,0,0\n",
    "    for i in range(len(arr)):\n",
    "        cum_sum += arr[i]\n",
    "        if cum_sum not in sum_store:\n",
    "            sum_store[cum_sum] = i + 1\n",
    "        \n",
    "        search_sum = cum_sum - expsum\n",
    "        if search_sum in sum_store:\n",
    "            curlength = max(curlength, i - sum_store[search_sum] + 1)\n",
    "    return curlength\n",
    "\n",
    "test_cases = [\n",
    "    [[1, 2, 3], 3, 2],                \n",
    "    [[1, -1, 5, -2, 3], 3, 4],        \n",
    "    [[], 0, 0],                       \n",
    "    [[3, 1, 0, -1, 8], 7, 3],         \n",
    "    [[1, 2, 3, -2, 5], 8, 4],         \n",
    "    [[-1, -1, 1, 2], 1, 4],           \n",
    "    [[5, -2, -1, 2, 3], 7, 5],        \n",
    "    [[10, -10, 10, -10, 10], 0, 4],   \n",
    "    [[1, 2, 3, 4, 5], 20, 0],         \n",
    "    [[-2, -1, 2, 1], 0, 4],           \n",
    "]\n",
    "\n",
    "for case in test_cases:\n",
    "    arr, expsum, length = case\n",
    "    print(arr, expsum, longestsubsum(arr,expsum) == length)"
   ]
  },
  {
   "cell_type": "markdown",
   "id": "0c1474cf",
   "metadata": {},
   "source": [
    "#### Given an array of size N. Find the highest and lowest frequency element."
   ]
  },
  {
   "cell_type": "code",
   "execution_count": 111,
   "id": "7c51ae04",
   "metadata": {},
   "outputs": [
    {
     "name": "stdout",
     "output_type": "stream",
     "text": [
      "[3, 1] [3, 1] True\n",
      "[7, 7] [7, 7] True\n",
      "[-2, -3] [-2, -3] True\n",
      "[-1, 3] [-1, 3] True\n",
      "[1, 3] [1, 3] True\n",
      "[None, None] [None, None] True\n",
      "[42, 42] [42, 42] True\n"
     ]
    }
   ],
   "source": [
    "def frequencies(arr):\n",
    "    if len(arr) == 0:\n",
    "        return [None, None]\n",
    "\n",
    "    # # 1. Collections\n",
    "    # from collections import Counter\n",
    "    # counts = Counter(arr).most_common()\n",
    "    # highest  = counts[0][0]\n",
    "    # lowest = counts[-1][0]\n",
    "\n",
    "    # 2. Dictionary\n",
    "    frequencies = {}\n",
    "    for num in arr:\n",
    "        if num not in frequencies:\n",
    "            frequencies[num] = 0\n",
    "        frequencies[num] += 1\n",
    "\n",
    "    highest,lowest = arr[0],arr[0]\n",
    "    for key in frequencies:\n",
    "        if frequencies[key] > frequencies[highest]:\n",
    "            highest = key\n",
    "        if frequencies[key] < frequencies[lowest]:\n",
    "            lowest = key\n",
    "\n",
    "\n",
    "    return [highest, lowest]\n",
    "\n",
    "\n",
    "test_cases = [\n",
    "    # Test case 1: basic test\n",
    "    [[1, 2, 2, 3, 3, 3], [3, 1]],\n",
    "\n",
    "    # Test case 3: one element repeated\n",
    "    [[7, 7, 7, 7], [7, 7]],\n",
    "\n",
    "    # Test case 5: negative numbers\n",
    "    [[-1, -1, -2, -2, -2, -3], [-2, -3]],\n",
    "\n",
    "    # Test case 6: mix of negative and positive\n",
    "    [[-1, 2, 2, -1, -1, 3], [-1, 3]],\n",
    "\n",
    "    # Test case 7: large input with one dominating element\n",
    "    [[1]*100 + [2]*50 + [3]*25 + [4]*25, [1, 3]], # Both 1,3 and 1,4 are correct\n",
    "\n",
    "    # Test case 8: empty array (edge case)\n",
    "    [[], [None, None]],\n",
    "\n",
    "    # Test case 9: single element array\n",
    "    [[42], [42, 42]],\n",
    "]\n",
    "\n",
    "\n",
    "for case in test_cases:\n",
    "    arr, freqs = case\n",
    "    print(freqs,frequencies(arr),frequencies(arr) == freqs)"
   ]
  },
  {
   "cell_type": "markdown",
   "id": "1639bb96",
   "metadata": {},
   "source": [
    "#### Given an array, print all the elements which are leaders. A Leader is an element that is greater than all of the elements on its right side in the array."
   ]
  },
  {
   "cell_type": "code",
   "execution_count": 116,
   "id": "5741c933",
   "metadata": {},
   "outputs": [
    {
     "name": "stdout",
     "output_type": "stream",
     "text": [
      "[16, 17, 4, 3, 5, 2] True\n",
      "[20, 18, 15, 10, 5] True\n",
      "[1, 2, 3, 4, 5] True\n",
      "[7, 7, 7, 7] True\n",
      "[42] True\n",
      "[1, 2] True\n",
      "[5, 1] True\n",
      "[0, -1, 3, -2, 5, 4] True\n",
      "[9, 1, 8, 2, 7, 3] True\n",
      "[5, 3, 20, 15, 6, 7, 2, 1] True\n"
     ]
    }
   ],
   "source": [
    "def leader(arr):\n",
    "    cum_highest = -float(\"inf\")\n",
    "    leaders = []\n",
    "    for index in range(len(arr) - 1, -1, -1):\n",
    "        if arr[index] > cum_highest:\n",
    "            leaders.append(arr[index])\n",
    "            cum_highest = arr[index]\n",
    "    return leaders[::-1]\n",
    "    \n",
    "\n",
    "test_cases = [\n",
    "    # Format: [input_array, expected_output]\n",
    "    \n",
    "    # Test case 1: Normal case with distinct elements\n",
    "    [[16, 17, 4, 3, 5, 2], [17, 5, 2]],\n",
    "    \n",
    "    # Test case 2: All elements in decreasing order\n",
    "    [[20, 18, 15, 10, 5], [20, 18, 15, 10, 5]],\n",
    "    \n",
    "    # Test case 3: All elements in increasing order\n",
    "    [[1, 2, 3, 4, 5], [5]],\n",
    "    \n",
    "    # Test case 4: All elements are the same\n",
    "    [[7, 7, 7, 7], [7]],\n",
    "    \n",
    "    # Test case 5: Single element array\n",
    "    [[42], [42]],\n",
    "    \n",
    "    # Test case 6: Two elements, first is smaller\n",
    "    [[1, 2], [2]],\n",
    "    \n",
    "    # Test case 7: Two elements, first is larger\n",
    "    [[5, 1], [5, 1]],\n",
    "    \n",
    "    # Test case 8: Array with negative and positive values\n",
    "    [[0, -1, 3, -2, 5, 4], [5, 4]],\n",
    "    \n",
    "    # Test case 9: Leaders at even indexes\n",
    "    [[9, 1, 8, 2, 7, 3], [9, 8, 7, 3]],\n",
    "    \n",
    "    # Test case 10: Long array with multiple peaks\n",
    "    [[5, 3, 20, 15, 6, 7, 2, 1], [20, 15, 7, 2, 1]]\n",
    "]\n",
    "\n",
    "for case in test_cases:\n",
    "    print(case[0], leader(case[0]) == case[-1])\n"
   ]
  },
  {
   "cell_type": "markdown",
   "id": "b0bd82df",
   "metadata": {},
   "source": [
    "#### Given an array containing both positive and negative integers, we have to find the length of the longest subarray with the sum of all elements equal to zero."
   ]
  },
  {
   "cell_type": "code",
   "execution_count": null,
   "id": "8e28afe4",
   "metadata": {},
   "outputs": [
    {
     "name": "stdout",
     "output_type": "stream",
     "text": [
      "[1, 2, -3, 3] True\n",
      "[1, -1] True\n",
      "[1, 2, 3] True\n",
      "[15, -2, 2, -8, 1, 7, 10, 23] True\n",
      "[0, 0, 0, 0] True\n",
      "[3, -1, -2, 4, -4] True\n",
      "[1, 2, -2, 4, -4] True\n",
      "[-1, 1, -1, 1] True\n",
      "[1, 2, 3, -6, 1, 2, -3] True\n",
      "[10, -10, 10, -10, 10] True\n"
     ]
    }
   ],
   "source": [
    "def longestzero(arr):\n",
    "    sum_store = {0:0}\n",
    "    cum_sum, cur_length = 0,0\n",
    "\n",
    "    for i in range(len(arr)):\n",
    "        cum_sum += arr[i]\n",
    "\n",
    "        if cum_sum not in sum_store:\n",
    "            sum_store[cum_sum] = i + 1\n",
    "\n",
    "        if cum_sum in sum_store:\n",
    "            cur_length = max(cur_length, i - sum_store[cum_sum] + 1)\n",
    "    \n",
    "    return cur_length\n",
    "\n",
    "\n",
    "test_cases = [\n",
    "    [[1, 2, -3, 3], 3],                \n",
    "    [[1, -1], 2],                     \n",
    "    [[1, 2, 3], 0],                   \n",
    "    [[15, -2, 2, -8, 1, 7, 10, 23], 5],\n",
    "    [[0, 0, 0, 0], 4],               \n",
    "    [[3, -1, -2, 4, -4], 5],         \n",
    "    [[1, 2, -2, 4, -4], 4],          \n",
    "    [[-1, 1, -1, 1], 4],             \n",
    "    [[1, 2, 3, -6, 1, 2, -3], 7],    \n",
    "    [[10, -10, 10, -10, 10], 4]  \n",
    "]\n",
    "\n",
    "\n",
    "for case in test_cases:\n",
    "    print(case[0], longestzero(case[0]) == case[1])"
   ]
  },
  {
   "cell_type": "markdown",
   "id": "95427a71",
   "metadata": {},
   "source": [
    "#### Given an integer array arr, find the contiguous subarray (containing at least one number) which has the largest sum and returns its sum and prints the subarray."
   ]
  },
  {
   "cell_type": "code",
   "execution_count": 137,
   "id": "446acc4a",
   "metadata": {},
   "outputs": [
    {
     "name": "stdout",
     "output_type": "stream",
     "text": [
      "True\n",
      "True\n",
      "True\n",
      "True\n",
      "True\n",
      "True\n",
      "True\n",
      "True\n",
      "True\n",
      "True\n"
     ]
    }
   ],
   "source": [
    "def maxsubarrsum(arr):\n",
    "    cur_sum,max_sum,start,end = 0,-float(\"inf\"),0,0\n",
    "\n",
    "    while end < len(arr):\n",
    "        cur_sum += arr[end]\n",
    "        max_sum = max(cur_sum, max_sum)\n",
    "        end += 1\n",
    "\n",
    "        while cur_sum < 0 and start < end:\n",
    "            cur_sum -= arr[start]\n",
    "            start += 1\n",
    "    \n",
    "    return max_sum\n",
    "\n",
    "\n",
    "test_cases = [\n",
    "    [[-2,1,-3,4,-1,2,1,-5,4], 6, [4, -1, 2, 1]],\n",
    "    [[1], 1, [1]],\n",
    "    [[5,4,-1,7,8], 23, [5, 4, -1, 7, 8]],\n",
    "    [[-1,-2,-3,-4], -1, [-1]],\n",
    "    [[3,-2,5,-1], 6, [3, -2, 5]],\n",
    "    [[1,2,3,4,5], 15, [1, 2, 3, 4, 5]],\n",
    "    [[-2,-3,4,-1,-2,1,5,-3], 7, [4, -1, -2, 1, 5]],\n",
    "    [[8,-19,5,-4,20], 21, [5, -4, 20]],\n",
    "    [[-10, -3, -4, -2], -2, [-2]],\n",
    "    [[2, -1, 2, 3, 4, -5], 10, [2, -1, 2, 3, 4]],\n",
    "]\n",
    "for case in test_cases:\n",
    "    print(maxsubarrsum(case[0]) == case[1])"
   ]
  },
  {
   "cell_type": "markdown",
   "id": "f5264a4a",
   "metadata": {},
   "source": [
    "#### Count the Number of Inversions in an Array\n",
    "\n",
    "Given an array of integers, count the number of inversions in the array.\n",
    "An **inversion** is a pair of elements `(A[i], A[j])` such that:\n",
    "\n",
    "* `i < j`, and\n",
    "* `A[i] > A[j]`\n",
    "\n",
    "In simpler terms, you need to find how many times a larger number comes before a smaller number in the array."
   ]
  },
  {
   "cell_type": "code",
   "execution_count": null,
   "id": "9364bdc0",
   "metadata": {},
   "outputs": [
    {
     "name": "stdout",
     "output_type": "stream",
     "text": [
      "True\n",
      "True\n",
      "True\n",
      "True\n",
      "True\n",
      "True\n",
      "True\n",
      "True\n",
      "True\n",
      "True\n"
     ]
    }
   ],
   "source": [
    "def count_inversions(arr):\n",
    "    inversions = 0\n",
    "\n",
    "    # # 1. Brute Force\n",
    "    # for i in range(len(arr)):\n",
    "    #     for j in range(i+1,len(arr)):\n",
    "    #         if arr[i] > arr[j]: inversions += 1\n",
    "\n",
    "    # 2. Merge Sort \n",
    "    \n",
    "\n",
    "    return inversions\n",
    "\n",
    "\n",
    "\n",
    "test_cases = [\n",
    "    [[1, 2, 3, 4, 5], 0],              # Sorted array, no inversions\n",
    "    [[5, 4, 3, 2, 1], 10],             # Reverse sorted array, maximum inversions\n",
    "    [[1, 3, 2, 5, 4], 2],              # A few inversions\n",
    "    [[2, 4, 1, 3, 5], 3],              # Multiple inversions\n",
    "    [[1, 20, 6, 4, 5], 5],             # Mixed order\n",
    "    [[1, 1, 1, 1], 0],                 # All elements equal, no inversions\n",
    "    [[3], 0],                          # Single element, no inversions\n",
    "    [[], 0],                           # Empty array, no inversions\n",
    "    [[9, 7, 8, 3, 2, 1], 14],          # General unsorted array\n",
    "    [[10, 9, 8, 7, 6, 5, 4, 3, 2, 1], 45]  # Large reverse sorted array\n",
    "]\n",
    "\n",
    "for case in test_cases:\n",
    "    print(count_inversions(case[0]) == case[1])"
   ]
  },
  {
   "cell_type": "markdown",
   "id": "3958dbea",
   "metadata": {},
   "source": [
    "#### You are given a read-only array of N integers with values also in the range [1, N] both inclusive. Each integer appears exactly once except A which appears twice and B which is missing. The task is to find the repeating and missing numbers A and B where A repeats twice and B is missing."
   ]
  },
  {
   "cell_type": "code",
   "execution_count": null,
   "id": "552f9759",
   "metadata": {},
   "outputs": [
    {
     "name": "stdout",
     "output_type": "stream",
     "text": [
      "[1, 2, 2, 4] True\n",
      "[3, 1, 3] True\n",
      "[1, 5, 3, 2, 2, 6, 7] True\n",
      "[4, 3, 6, 2, 1, 1] True\n",
      "[5, 4, 3, 2, 2, 6] True\n",
      "[7, 3, 6, 5, 1, 4, 7] True\n",
      "[2, 1, 4, 6, 5, 6, 7, 8] True\n",
      "[1, 1] True\n",
      "[2, 2] True\n",
      "[10, 9, 8, 7, 6, 5, 4, 3, 2, 2] True\n"
     ]
    }
   ],
   "source": [
    "def findrepndmis(arr):\n",
    "    double,missing = -1,-1\n",
    "\n",
    "    # # 1. Brute Force\n",
    "    # seen = set()\n",
    "    # for num in arr:\n",
    "    #     if num in seen:\n",
    "    #         double = num\n",
    "    #     else:\n",
    "    #         seen.add(num)\n",
    "    # for num in range(1,len(arr)+1):\n",
    "    #     if num not in seen:\n",
    "    #         missing = num\n",
    "\n",
    "    # 2. Optimal Method\n",
    "    set_num = set(range(1,len(arr) + 1))\n",
    "    for num in arr:\n",
    "        if num in set_num:\n",
    "            set_num.remove(num)\n",
    "        else:\n",
    "            double = num\n",
    "    missing = set_num.pop()\n",
    "\n",
    "    # 3. XOR Method\n",
    "    \n",
    "\n",
    "    return [double,missing]\n",
    "\n",
    "def solution_finder(arr):\n",
    "    from collections import Counter\n",
    "    double = Counter(arr).most_common(1)[0][0]\n",
    "    set_arr = set(arr)\n",
    "    missing = -1\n",
    "    for num in range(1,len(arr) + 1):\n",
    "        if num not in set_arr:\n",
    "            missing = num\n",
    "            break\n",
    "    return [double,missing]\n",
    "\n",
    "test_cases = [\n",
    "    [1, 2, 2, 4],           # A=2, B=3\n",
    "    [3, 1, 3],              # A=3, B=2\n",
    "    [1, 5, 3, 2, 2, 6, 7],  # A=2, B=4\n",
    "    [4, 3, 6, 2, 1, 1],     # A=1, B=5\n",
    "    [5, 4, 3, 2, 2, 6],     # A=2, B=1\n",
    "    [7, 3, 6, 5, 1, 4, 7],  # A=7, B=2\n",
    "    [2, 1, 4, 6, 5, 6, 7, 8],  # A=6, B=3\n",
    "    [1, 1],                # A=1, B=2\n",
    "    [2, 2],                # A=2, B=1\n",
    "    [10, 9, 8, 7, 6, 5, 4, 3, 2, 2]  # A=2, B=1\n",
    "]\n",
    "\n",
    "for case in test_cases:\n",
    "    print(case, solution_finder(case) == findrepndmis(case))"
   ]
  },
  {
   "cell_type": "markdown",
   "id": "16f242c9",
   "metadata": {},
   "source": [
    "#### Given an array of integers A and an integer B. Find the total number of subarrays having bitwise XOR of all elements equal to k."
   ]
  },
  {
   "cell_type": "code",
   "execution_count": 178,
   "id": "17fda0da",
   "metadata": {},
   "outputs": [
    {
     "name": "stdout",
     "output_type": "stream",
     "text": [
      "[4, 2, 2, 6, 4] True ||| 4 4 4\n",
      "[5, 6, 7, 8, 9] True ||| 2 2 2\n",
      "[1, 2, 3] True ||| 1 1 1\n",
      "[0, 0, 0, 0] True ||| 10 10 10\n",
      "[1, 1, 1, 1] True ||| 6 6 6\n",
      "[1] True ||| 1 1 1\n",
      "[1] True ||| 0 0 0\n",
      "[] True ||| 0 0 0\n"
     ]
    }
   ],
   "source": [
    "def num_xorsv1(arr,target):\n",
    "    from collections import defaultdict\n",
    "    cum_xor,count,search_xor = 0,0,0\n",
    "    stores = defaultdict(int)\n",
    "    stores[0]=1\n",
    "    for i in range(len(arr)):\n",
    "        cum_xor = cum_xor ^ arr[i]\n",
    "        search_xor = cum_xor ^ target\n",
    "        count += stores[search_xor]\n",
    "        stores[cum_xor] += 1\n",
    "        \n",
    "\n",
    "    return count\n",
    "\n",
    "from collections import defaultdict\n",
    "def num_xorsv2(a, k) -> int:\n",
    "    n = len(a) # size of the given array.\n",
    "    xr = 0\n",
    "    mpp = defaultdict(int) # declaring the dictionary.\n",
    "    mpp[xr] = 1 # setting the value of 0.\n",
    "    cnt = 0\n",
    "\n",
    "    for i in range(n):\n",
    "        # prefix XOR till index i:\n",
    "        xr = xr ^ a[i]\n",
    "\n",
    "        # By formula: x = xr^k:\n",
    "        x = xr ^ k\n",
    "\n",
    "        # add the occurrence of xr^k\n",
    "        # to the count:\n",
    "        cnt += mpp[x]\n",
    "\n",
    "        # Insert the prefix xor till index i\n",
    "        # into the dictionary:\n",
    "        mpp[xr] += 1\n",
    "\n",
    "    return cnt\n",
    "\n",
    "\n",
    "test_cases = [\n",
    "    [[ [4, 2, 2, 6, 4], 6 ], 4],     # Multiple valid subarrays\n",
    "    [[ [5, 6, 7, 8, 9], 5 ], 2],     # Single and overlapping subarrays\n",
    "    [[ [1, 2, 3], 0 ], 1],           # Only one subarray has XOR = 0\n",
    "    [[ [0, 0, 0, 0], 0 ], 10],       # All zeros -> every subarray XOR = 0\n",
    "    [[ [1, 1, 1, 1], 1 ], 6],        # Many subarrays have XOR = 1\n",
    "    [[ [1], 1 ], 1],                 # Single element equals B\n",
    "    [[ [1], 2 ], 0],                 # Single element not equal to B\n",
    "    [[ [], 0 ], 0],                 # Empty array, no subarrays\n",
    "]\n",
    "\n",
    "for case in test_cases:\n",
    "    print(case[0][0], case[1] == num_xorsv1(case[0][0],case[0][1]),\"|||\",case[1], num_xorsv1(case[0][0],case[0][1]), num_xorsv2(case[0][0],case[0][1]))"
   ]
  },
  {
   "cell_type": "code",
   "execution_count": null,
   "id": "024c0bca",
   "metadata": {},
   "outputs": [],
   "source": [
    "# "
   ]
  },
  {
   "cell_type": "code",
   "execution_count": null,
   "id": "fdf0c159",
   "metadata": {},
   "outputs": [],
   "source": []
  },
  {
   "cell_type": "code",
   "execution_count": null,
   "id": "38aaec47",
   "metadata": {},
   "outputs": [],
   "source": []
  },
  {
   "cell_type": "code",
   "execution_count": null,
   "id": "86bbea34",
   "metadata": {},
   "outputs": [],
   "source": []
  },
  {
   "cell_type": "code",
   "execution_count": null,
   "id": "235d9193",
   "metadata": {},
   "outputs": [],
   "source": []
  },
  {
   "cell_type": "code",
   "execution_count": null,
   "id": "59dfc518",
   "metadata": {},
   "outputs": [],
   "source": []
  },
  {
   "cell_type": "code",
   "execution_count": null,
   "id": "f273c699",
   "metadata": {},
   "outputs": [],
   "source": []
  },
  {
   "cell_type": "code",
   "execution_count": null,
   "id": "cc4b2f73",
   "metadata": {},
   "outputs": [],
   "source": []
  },
  {
   "cell_type": "code",
   "execution_count": null,
   "id": "b78a9820",
   "metadata": {},
   "outputs": [],
   "source": []
  },
  {
   "cell_type": "code",
   "execution_count": null,
   "id": "d24c48d4",
   "metadata": {},
   "outputs": [],
   "source": []
  },
  {
   "cell_type": "code",
   "execution_count": null,
   "id": "dd0d7520",
   "metadata": {},
   "outputs": [],
   "source": []
  },
  {
   "cell_type": "code",
   "execution_count": null,
   "id": "a28f7fac",
   "metadata": {},
   "outputs": [],
   "source": []
  },
  {
   "cell_type": "code",
   "execution_count": null,
   "id": "dbb5d595",
   "metadata": {},
   "outputs": [],
   "source": []
  }
 ],
 "metadata": {
  "kernelspec": {
   "display_name": "sameerah",
   "language": "python",
   "name": "python3"
  },
  "language_info": {
   "codemirror_mode": {
    "name": "ipython",
    "version": 3
   },
   "file_extension": ".py",
   "mimetype": "text/x-python",
   "name": "python",
   "nbconvert_exporter": "python",
   "pygments_lexer": "ipython3",
   "version": "3.10.14"
  },
  "vscode": {
   "interpreter": {
    "hash": "8a7fe198667f559285037b1c81457d171376a308368d9bd529ff63200859e778"
   }
  }
 },
 "nbformat": 4,
 "nbformat_minor": 5
}
