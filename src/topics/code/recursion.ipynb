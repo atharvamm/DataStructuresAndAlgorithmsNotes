{
 "cells": [
  {
   "cell_type": "markdown",
   "id": "d7ebf2d7",
   "metadata": {},
   "source": [
    "# Recursion\n",
    "\n"
   ]
  },
  {
   "attachments": {},
   "cell_type": "markdown",
   "id": "4113e166",
   "metadata": {},
   "source": [
    "- When a function keeps calling itself until a specificed condition is met.\n",
    "    - Divide and conquer or delegating the problem until i know the definite solution.\n",
    "- Stackoverflow when the recursion run stacks passes some limit since the recursion stack just keeps taking in memory.\n",
    "- When it stops calling itself again that condition is called the base condition.\n",
    "- Backtrack\n",
    "    - The operation of the function happens after the function up the stack gets executed. For e.g if you want to print from 1 to n using recursion. Instead of pring from 1 to n recursively, you call function at n, and then keep calling until base condition and then build up answer from there.\n",
    "    - Basically, make sure, the last guy is executed first.\n",
    "- Parameterised and Functional Recursion\n",
    "    - Parameterised\n",
    "        - Parametrized recursion is a technique where a function is called recursively with additional parameters that help track and solve subproblems. These parameters are often used to pass information between recursive calls. \n",
    "    - Functional\n",
    "        - Functional recursion is a technique where a function returns the result of a recursive call directly. It relies on the return value of the recursive call to compute the final result. \n",
    "- Time complexity of recursion : 2^n / exponential"
   ]
  },
  {
   "cell_type": "markdown",
   "id": "aa50dac5",
   "metadata": {},
   "source": [
    "#### Q1. Recursive code for printing numbers from 0 to 3"
   ]
  },
  {
   "cell_type": "code",
   "execution_count": 23,
   "id": "b2640cc3",
   "metadata": {},
   "outputs": [
    {
     "data": {
      "text/plain": [
       "'0 1 2 3'"
      ]
     },
     "execution_count": 23,
     "metadata": {},
     "output_type": "execute_result"
    }
   ],
   "source": [
    "def print_recurse(n):\n",
    "    if n == 0: return str(0)\n",
    "    return print_recurse(n-1) + \" \" + str(n)\n",
    "\n",
    "print_recurse(3)"
   ]
  },
  {
   "cell_type": "markdown",
   "id": "aada3ca9",
   "metadata": {},
   "source": [
    "#### Q2. Print string N times using recursion"
   ]
  },
  {
   "cell_type": "code",
   "execution_count": 27,
   "id": "641cb760",
   "metadata": {},
   "outputs": [
    {
     "name": "stdout",
     "output_type": "stream",
     "text": [
      "john\n",
      "john\n",
      "john\n",
      "\n"
     ]
    }
   ],
   "source": [
    "def recurse_ntimes(string,n):\n",
    "    if n > 0:\n",
    "        return string + \"\\n\" + recurse_ntimes(string, n - 1)\n",
    "    else:\n",
    "        return \"\"\n",
    "\n",
    "print(recurse_ntimes(\"john\", 3))"
   ]
  },
  {
   "cell_type": "markdown",
   "id": "312a96c9",
   "metadata": {},
   "source": [
    "#### Q3. Print from 1 to N using Recursion"
   ]
  },
  {
   "cell_type": "code",
   "execution_count": 29,
   "id": "db1401a6",
   "metadata": {},
   "outputs": [
    {
     "data": {
      "text/plain": [
       "'1 2 3 4 5 6 7 8 9 10'"
      ]
     },
     "execution_count": 29,
     "metadata": {},
     "output_type": "execute_result"
    }
   ],
   "source": [
    "def print_recurse(n):\n",
    "    if n == 1: return str(1)\n",
    "    return print_recurse(n-1) + \" \" + str(n)\n",
    "\n",
    "print_recurse(10)"
   ]
  },
  {
   "cell_type": "markdown",
   "id": "39765a33",
   "metadata": {},
   "source": [
    "#### Q4. Print from N to 1 using Recursion"
   ]
  },
  {
   "cell_type": "code",
   "execution_count": 30,
   "id": "b48cd286",
   "metadata": {},
   "outputs": [
    {
     "data": {
      "text/plain": [
       "'10 9 8 7 6 5 4 3 2 1'"
      ]
     },
     "execution_count": 30,
     "metadata": {},
     "output_type": "execute_result"
    }
   ],
   "source": [
    "def print_recurse(n):\n",
    "    if n == 1: return str(1)\n",
    "    return str(n) + \" \" + print_recurse(n-1)\n",
    "\n",
    "print_recurse(10)"
   ]
  },
  {
   "cell_type": "markdown",
   "id": "5017639c",
   "metadata": {},
   "source": [
    "#### Q5. Given a number ‘N’, find out the sum of the first N natural numbers."
   ]
  },
  {
   "cell_type": "code",
   "execution_count": 31,
   "id": "0a93c07f",
   "metadata": {},
   "outputs": [
    {
     "data": {
      "text/plain": [
       "55"
      ]
     },
     "execution_count": 31,
     "metadata": {},
     "output_type": "execute_result"
    }
   ],
   "source": [
    "def recsumn(n):\n",
    "    if n == 1 : return 1\n",
    "    return n + recsumn(n - 1)\n",
    "\n",
    "recsumn(5)\n",
    "recsumn(10)"
   ]
  },
  {
   "cell_type": "markdown",
   "id": "64a584e4",
   "metadata": {},
   "source": [
    "#### Q6. Given a number X,  print its factorial. To obtain the factorial of a number, it has to be multiplied by all the whole numbers preceding it. More precisely X! = X*(X-1)*(X-2) … 1."
   ]
  },
  {
   "cell_type": "code",
   "execution_count": 10,
   "id": "e9e1ef63",
   "metadata": {},
   "outputs": [
    {
     "name": "stdout",
     "output_type": "stream",
     "text": [
      "120\n",
      "6\n"
     ]
    }
   ],
   "source": [
    "def factorial(n):\n",
    "    if n < 1:\n",
    "        return 1\n",
    "    else:\n",
    "        return n * factorial(n-1)\n",
    "\n",
    "print(factorial(5))\n",
    "print(factorial(3))"
   ]
  },
  {
   "cell_type": "markdown",
   "id": "1f42d5c6",
   "metadata": {},
   "source": [
    "#### Q7. You are given an array. The task is to reverse the array and print it. "
   ]
  },
  {
   "cell_type": "code",
   "execution_count": 19,
   "id": "321159bf",
   "metadata": {},
   "outputs": [
    {
     "name": "stdout",
     "output_type": "stream",
     "text": [
      "[1, 2, 3, 4, 5]\n",
      "[5, 4, 3, 2, 1]\n",
      "[1, 2, 3, 4, 5, 6]\n",
      "[6, 5, 4, 3, 2, 1]\n"
     ]
    }
   ],
   "source": [
    "\n",
    "def rev_rec(num, s, e):\n",
    "    if s < e:\n",
    "        num[s], num[e] = num[e], num[s]\n",
    "        rev_rec(num, s+1, e-1)\n",
    "\n",
    "\n",
    "num = [1,2,3,4,5]\n",
    "print(num)\n",
    "rev_rec(num,0,len(num)-1)\n",
    "print(num)\n",
    "num = [1,2,3,4,5,6]\n",
    "print(num)\n",
    "rev_rec(num,0,len(num)-1)\n",
    "print(num)"
   ]
  },
  {
   "cell_type": "markdown",
   "id": "01f32ba8",
   "metadata": {},
   "source": [
    "#### Q8. \"Given a string, check if the string is palindrome or not.\"  A string is said to be palindrome if the reverse of the string is the same as the string."
   ]
  },
  {
   "cell_type": "code",
   "execution_count": 15,
   "id": "bfd1c6d5",
   "metadata": {},
   "outputs": [
    {
     "data": {
      "text/plain": [
       "False"
      ]
     },
     "execution_count": 15,
     "metadata": {},
     "output_type": "execute_result"
    }
   ],
   "source": [
    "def recursion_palindrome(string, first, last):\n",
    "    if first >= last:\n",
    "        return True\n",
    "    if string[first] == string[last]:\n",
    "        return recursion_palindrome(string, first + 1, last - 1)\n",
    "    else:\n",
    "        return False\n",
    "    \n",
    "recursion_palindrome(\"aba\",first=0,last=2)\n",
    "\n",
    "string = \"absafdsa\"\n",
    "last = len(string) - 1\n",
    "recursion_palindrome(string,first=0,last=last)"
   ]
  },
  {
   "cell_type": "markdown",
   "id": "570fdb7a",
   "metadata": {},
   "source": [
    "#### Q9. Given an integer N. Print the Fibonacci series up to the Nth term."
   ]
  },
  {
   "cell_type": "code",
   "execution_count": 9,
   "id": "d14945cf",
   "metadata": {},
   "outputs": [
    {
     "name": "stdout",
     "output_type": "stream",
     "text": [
      "2 [0, 1, 1, 2]\n"
     ]
    }
   ],
   "source": [
    "def fibonacci(n):\n",
    "    ans = -1\n",
    "    if n <= 1:\n",
    "        ans = n\n",
    "    else:\n",
    "        ans = fibonacci(n - 1) + fibonacci(n - 2)\n",
    "    num[n] = ans\n",
    "    return ans\n",
    "\n",
    "N = 3\n",
    "num = [-1 for _ in range(N+1)]\n",
    "print(fibonacci(N),num)"
   ]
  },
  {
   "cell_type": "code",
   "execution_count": null,
   "id": "7b60ddce",
   "metadata": {},
   "outputs": [],
   "source": []
  }
 ],
 "metadata": {
  "kernelspec": {
   "display_name": "sameerah",
   "language": "python",
   "name": "python3"
  },
  "language_info": {
   "codemirror_mode": {
    "name": "ipython",
    "version": 3
   },
   "file_extension": ".py",
   "mimetype": "text/x-python",
   "name": "python",
   "nbconvert_exporter": "python",
   "pygments_lexer": "ipython3",
   "version": "3.10.14"
  },
  "vscode": {
   "interpreter": {
    "hash": "8a7fe198667f559285037b1c81457d171376a308368d9bd529ff63200859e778"
   }
  }
 },
 "nbformat": 4,
 "nbformat_minor": 5
}
