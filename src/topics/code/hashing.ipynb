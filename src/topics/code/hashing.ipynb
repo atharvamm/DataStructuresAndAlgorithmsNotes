{
 "cells": [
  {
   "attachments": {},
   "cell_type": "markdown",
   "id": "d7ebf2d7",
   "metadata": {},
   "source": [
    "# Hashing\n",
    "\n",
    "- Pre-storing and fetching\n",
    "- Optimizes the number of lookups we have to make\n",
    "- C++ : \n",
    "    - Ordered (default) Map\n",
    "        - C++ map stores all values in sorted order atleast for numbers\n",
    "        - Time Complexity\n",
    "            - log N,(best/average/worst) for storing and fetching. \n",
    "            - Here N is the number of elements in the data structure.\n",
    "    -  Unordered Map\n",
    "        - Time Complexity\n",
    "            - Best / Average for storing and fetching -> O(1)\n",
    "            - Worst is O(N)\n",
    "                - Happens because of internal collisions\n",
    "                - Different Methods - division, folding, mid-square method\n",
    "                    - Division method basically take modulo of length and store value at index.\n",
    "                        - But then you are open to collisions\n",
    "            - Collisions\n",
    "                - Usually chain in sorted fashion, like make a linked list of sorts.\n",
    "                - Worst case for unordered map, O(N) only happens in collision where the hash algorithm somehow ends up having the same key for all the elements in which case we have to manually go search through the linked list. But this is very rare.\n",
    "            - N is number of elements in the map\n",
    "    - Generally for problem use, unordered map, unless you get TLE/Time Limited Exceeded"
   ]
  },
  {
   "attachments": {},
   "cell_type": "markdown",
   "id": "39765a33",
   "metadata": {},
   "source": [
    "#### Number of times particular number in array"
   ]
  },
  {
   "cell_type": "code",
   "execution_count": 3,
   "id": "a011f226",
   "metadata": {},
   "outputs": [],
   "source": [
    "from help import timeit"
   ]
  },
  {
   "cell_type": "code",
   "execution_count": 4,
   "id": "b48cd286",
   "metadata": {},
   "outputs": [
    {
     "name": "stdout",
     "output_type": "stream",
     "text": [
      "count_num took 0.00000286 seconds\n",
      "count_num_hash took 0.00000215 seconds\n"
     ]
    }
   ],
   "source": [
    "@timeit(8)\n",
    "def count_num(arr,search):\n",
    "    for n in search:\n",
    "        counter = 0\n",
    "        for num in arr:\n",
    "            if num == n:\n",
    "                counter += 1 \n",
    "        ans = f\"{n}:{counter}\"\n",
    "            \n",
    "@timeit(8)\n",
    "def count_num_hash(arr,search):\n",
    "    counter = {}\n",
    "    for num in arr:\n",
    "        counter[num] = counter.get(num,0) + 1\n",
    "    \n",
    "    for n in search:\n",
    "        ans = f\"{n}:{counter.get(n,0)}\"\n",
    "\n",
    "\n",
    "arr = [1,2,3,4,2,2,3,2]\n",
    "search = [12,1,2,3,10]\n",
    "\n",
    "\n",
    "count_num(arr,search)\n",
    "count_num_hash(arr,search)"
   ]
  },
  {
   "cell_type": "markdown",
   "id": "5017639c",
   "metadata": {},
   "source": []
  }
 ],
 "metadata": {
  "kernelspec": {
   "display_name": "sameerah",
   "language": "python",
   "name": "python3"
  },
  "language_info": {
   "codemirror_mode": {
    "name": "ipython",
    "version": 3
   },
   "file_extension": ".py",
   "mimetype": "text/x-python",
   "name": "python",
   "nbconvert_exporter": "python",
   "pygments_lexer": "ipython3",
   "version": "3.10.14"
  },
  "vscode": {
   "interpreter": {
    "hash": "8a7fe198667f559285037b1c81457d171376a308368d9bd529ff63200859e778"
   }
  }
 },
 "nbformat": 4,
 "nbformat_minor": 5
}
